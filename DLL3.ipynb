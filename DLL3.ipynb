{
  "nbformat": 4,
  "nbformat_minor": 0,
  "metadata": {
    "colab": {
      "name": "DLL3.ipynb",
      "provenance": [],
      "authorship_tag": "ABX9TyNOzF4pVGm4HRmMQ67tG/Re",
      "include_colab_link": true
    },
    "kernelspec": {
      "display_name": "Python 3",
      "name": "python3"
    },
    "language_info": {
      "name": "python"
    }
  },
  "cells": [
    {
      "cell_type": "markdown",
      "metadata": {
        "id": "view-in-github",
        "colab_type": "text"
      },
      "source": [
        "<a href=\"https://colab.research.google.com/github/NamLam-L/Transfer-Learning-model/blob/main/DLL3.ipynb\" target=\"_parent\"><img src=\"https://colab.research.google.com/assets/colab-badge.svg\" alt=\"Open In Colab\"/></a>"
      ]
    },
    {
      "cell_type": "code",
      "metadata": {
        "colab": {
          "base_uri": "https://localhost:8080/"
        },
        "id": "KhxAHb_Ic8XI",
        "outputId": "42f6dfbd-cb0e-45fa-84fe-9ec8f87f4b42"
      },
      "source": [
        "from google.colab import drive\n",
        "drive.mount('/content/gdrive')"
      ],
      "execution_count": null,
      "outputs": [
        {
          "output_type": "stream",
          "name": "stdout",
          "text": [
            "Mounted at /content/gdrive\n"
          ]
        }
      ]
    },
    {
      "cell_type": "code",
      "metadata": {
        "colab": {
          "base_uri": "https://localhost:8080/",
          "height": 35
        },
        "id": "CPD6K9wnXzpx",
        "outputId": "4a55863f-65de-4ba4-dad8-90cad13cd227"
      },
      "source": [
        "import keras\n",
        "keras.__version__"
      ],
      "execution_count": null,
      "outputs": [
        {
          "output_type": "execute_result",
          "data": {
            "application/vnd.google.colaboratory.intrinsic+json": {
              "type": "string"
            },
            "text/plain": [
              "'2.7.0'"
            ]
          },
          "metadata": {},
          "execution_count": 3
        }
      ]
    },
    {
      "cell_type": "markdown",
      "metadata": {
        "id": "64hJJecLY_yl"
      },
      "source": [
        "# 5.2 - Using convnets with small datasets\n",
        "\n",
        "This notebook contains the code sample found in Chapter 5, Section 2 of [Deep Learning with Python](https://www.manning.com/books/deep-learning-with-python?a_aid=keras&a_bid=76564dff). Note that the original text features far more content, in particular further explanations and figures: in this notebook, you will only find source code and related comments.\n",
        "\n",
        "## Training a convnet from scratch on a small dataset\n",
        "\n",
        "Having to train an image classification model using only very little data is a common situation, which you likely encounter yourself in \n",
        "practice if you ever do computer vision in a professional context.\n",
        "\n",
        "Having \"few\" samples can mean anywhere from a few hundreds to a few tens of thousands of images. As a practical example, we will focus on \n",
        "classifying images as \"dogs\" or \"cats\", in a dataset containing 4000 pictures of cats and dogs (2000 cats, 2000 dogs). We will use 2000 \n",
        "pictures for training, 1000 for validation, and finally 1000 for testing.\n",
        "\n",
        "In this section, we will review one basic strategy to tackle this problem: training a new model from scratch on what little data we have. We \n",
        "will start by naively training a small convnet on our 2000 training samples, without any regularization, to set a baseline for what can be \n",
        "achieved. This will get us to a classification accuracy of 71%. At that point, our main issue will be overfitting. Then we will introduce \n",
        "*data augmentation*, a powerful technique for mitigating overfitting in computer vision. By leveraging data augmentation, we will improve \n",
        "our network to reach an accuracy of 82%.\n",
        "\n",
        "In the next section, we will review two more essential techniques for applying deep learning to small datasets: *doing feature extraction \n",
        "with a pre-trained network* (this will get us to an accuracy of 90% to 93%), and *fine-tuning a pre-trained network* (this will get us to \n",
        "our final accuracy of 95%). Together, these three strategies -- training a small model from scratch, doing feature extracting using a \n",
        "pre-trained model, and fine-tuning a pre-trained model -- will constitute your future toolbox for tackling the problem of doing computer \n",
        "vision with small datasets."
      ]
    },
    {
      "cell_type": "markdown",
      "metadata": {
        "id": "rUMx6L2pZWsb"
      },
      "source": [
        "## The relevance of deep learning for small-data problems\n",
        "\n",
        "You will sometimes hear that deep learning only works when lots of data is available. This is in part a valid point: one fundamental \n",
        "characteristic of deep learning is that it is able to find interesting features in the training data on its own, without any need for manual \n",
        "feature engineering, and this can only be achieved when lots of training examples are available. This is especially true for problems where \n",
        "the input samples are very high-dimensional, like images.\n",
        "\n",
        "However, what constitutes \"lots\" of samples is relative -- relative to the size and depth of the network you are trying to train, for \n",
        "starters. It isn't possible to train a convnet to solve a complex problem with just a few tens of samples, but a few hundreds can \n",
        "potentially suffice if the model is small and well-regularized and if the task is simple. \n",
        "Because convnets learn local, translation-invariant features, they are very \n",
        "data-efficient on perceptual problems. Training a convnet from scratch on a very small image dataset will still yield reasonable results \n",
        "despite a relative lack of data, without the need for any custom feature engineering. You will see this in action in this section.\n",
        "\n",
        "But what's more, deep learning models are by nature highly repurposable: you can take, say, an image classification or speech-to-text model \n",
        "trained on a large-scale dataset then reuse it on a significantly different problem with only minor changes. Specifically, in the case of \n",
        "computer vision, many pre-trained models (usually trained on the ImageNet dataset) are now publicly available for download and can be used \n",
        "to bootstrap powerful vision models out of very little data. That's what we will do in the next section.\n",
        "\n",
        "For now, let's get started by getting our hands on the data."
      ]
    },
    {
      "cell_type": "markdown",
      "metadata": {
        "id": "sDK3YGXWZZzH"
      },
      "source": [
        "## Downloading the data\n",
        "\n",
        "The cats vs. dogs dataset that we will use isn't packaged with Keras. It was made available by Kaggle.com as part of a computer vision \n",
        "competition in late 2013, back when convnets weren't quite mainstream. You can download the original dataset at: \n",
        "`https://www.kaggle.com/c/dogs-vs-cats/data` (you will need to create a Kaggle account if you don't already have one -- don't worry, the \n",
        "process is painless).\n",
        "\n",
        "The pictures are medium-resolution color JPEGs. They look like this:\n",
        "\n",
        "![cats_vs_dogs_samples](https://s3.amazonaws.com/book.keras.io/img/ch5/cats_vs_dogs_samples.jpg)"
      ]
    },
    {
      "cell_type": "markdown",
      "metadata": {
        "id": "rouApsP9Zel5"
      },
      "source": [
        "Unsurprisingly, the cats vs. dogs Kaggle competition in 2013 was won by entrants who used convnets. The best entries could achieve up to \n",
        "95% accuracy. In our own example, we will get fairly close to this accuracy (in the next section), even though we will be training our \n",
        "models on less than 10% of the data that was available to the competitors.\n",
        "This original dataset contains 25,000 images of dogs and cats (12,500 from each class) and is 543MB large (compressed). After downloading \n",
        "and uncompressing it, we will create a new dataset containing three subsets: a training set with 1000 samples of each class, a validation \n",
        "set with 500 samples of each class, and finally a test set with 500 samples of each class.\n",
        "\n",
        "Here are a few lines of code to do this:"
      ]
    },
    {
      "cell_type": "code",
      "metadata": {
        "colab": {
          "base_uri": "https://localhost:8080/"
        },
        "id": "mV8RzkobZ7RW",
        "outputId": "3648036f-f39d-40e7-c129-db637dc5e92a"
      },
      "source": [
        "path = \"//content//gdrive//MyDrive//ML\"\n",
        "import os\n",
        "os.path.isdir(path)"
      ],
      "execution_count": null,
      "outputs": [
        {
          "output_type": "execute_result",
          "data": {
            "text/plain": [
              "True"
            ]
          },
          "metadata": {},
          "execution_count": 4
        }
      ]
    },
    {
      "cell_type": "code",
      "metadata": {
        "id": "TnSjiBGWaQUO"
      },
      "source": [
        "base_dir = path + '//Cat and Dog'\n",
        "train_dir = os.path.join(base_dir, 'Train')\n",
        "validation_dir = os.path.join(base_dir, 'Validation')\n",
        "test_dir = os.path.join(base_dir, 'Validation')\n",
        "\n",
        "\n",
        "# Directory with our training cat pictures\n",
        "train_cats_dir = os.path.join(train_dir, 'Cat')\n",
        "\n",
        "\n",
        "# Directory with our training dog pictures\n",
        "train_dogs_dir = os.path.join(train_dir, 'Dog')\n",
        "\n",
        "\n",
        "# Directory with our validation cat pictures\n",
        "validation_cats_dir = os.path.join(validation_dir, 'Cat')\n",
        "\n",
        "\n",
        "# Directory with our validation dog pictures\n",
        "validation_dogs_dir = os.path.join(validation_dir, 'Dog')\n",
        "\n",
        "\n",
        "# Directory with our validation cat pictures\n",
        "test_cats_dir = os.path.join(test_dir, 'Cat')\n",
        "\n",
        "\n",
        "# Directory with our validation dog pictures\n",
        "test_dogs_dir = os.path.join(test_dir, 'Dog')\n",
        "\n",
        "\n"
      ],
      "execution_count": null,
      "outputs": []
    },
    {
      "cell_type": "markdown",
      "metadata": {
        "id": "0bs13V9tdkfI"
      },
      "source": [
        "As a sanity check, let's count how many pictures we have in each training split (train/validation/test):"
      ]
    },
    {
      "cell_type": "code",
      "metadata": {
        "colab": {
          "base_uri": "https://localhost:8080/"
        },
        "id": "XUufGKPMdVM_",
        "outputId": "f63ad768-daaf-4a8e-e450-1c8cf4baf87e"
      },
      "source": [
        "print(\"total train cat images: \", len(os.listdir(train_cats_dir)))\n",
        "print(\"total train dog images: \", len(os.listdir(train_dogs_dir)))\n",
        "print(\"total validation cat images: \", len(os.listdir(validation_cats_dir)))\n",
        "print(\"total validation dog images: \", len(os.listdir(validation_dogs_dir)))\n",
        "print(\"total test cat images: \", len(os.listdir(test_cats_dir)))\n",
        "print(\"total test dog images: \", len(os.listdir(test_dogs_dir)))"
      ],
      "execution_count": null,
      "outputs": [
        {
          "output_type": "stream",
          "name": "stdout",
          "text": [
            "total train cat images:  1001\n",
            "total train dog images:  1001\n",
            "total validation cat images:  501\n",
            "total validation dog images:  501\n",
            "total test cat images:  501\n",
            "total test dog images:  501\n"
          ]
        }
      ]
    },
    {
      "cell_type": "code",
      "metadata": {
        "colab": {
          "base_uri": "https://localhost:8080/",
          "height": 285
        },
        "id": "qkby4F1aih5R",
        "outputId": "8e6f253a-97f0-4245-d449-e4f5756ae582"
      },
      "source": [
        "import random\n",
        "idx = random.randint(0,1000)\n",
        "idx\n",
        "train_cats_dir\n",
        "\n",
        "import matplotlib.pyplot as plt\n",
        "import matplotlib.image as mpimg\n",
        "img_path = train_cats_dir + \"/\" + \"cat.\" + str(idx) + \".jpg\"\n",
        "\n",
        "img = mpimg.imread(img_path)\n",
        "plt.imshow(img)"
      ],
      "execution_count": null,
      "outputs": [
        {
          "output_type": "execute_result",
          "data": {
            "text/plain": [
              "<matplotlib.image.AxesImage at 0x7fcdadd4bd50>"
            ]
          },
          "metadata": {},
          "execution_count": 7
        },
        {
          "output_type": "display_data",
          "data": {
            "image/png": "[encoded data removed]",
            "text/plain": [
              "<Figure size 432x288 with 1 Axes>"
            ]
          },
          "metadata": {
            "needs_background": "light"
          }
        }
      ]
    },
    {
      "cell_type": "markdown",
      "metadata": {
        "id": "a5TU1t3ikOKI"
      },
      "source": [
        "So we have indeed 2000 training images, and then 1000 validation images and 1000 test images. In each split, there is the same number of \n",
        "samples from each class: this is a balanced binary classification problem, which means that classification accuracy will be an appropriate \n",
        "measure of success."
      ]
    },
    {
      "cell_type": "markdown",
      "metadata": {
        "id": "bn0DhvcEkTZx"
      },
      "source": [
        "## Building our network\n",
        "\n",
        "We've already built a small convnet for MNIST in the previous example, so you should be familiar with them. We will reuse the same \n",
        "general structure: our convnet will be a stack of alternated `Conv2D` (with `relu` activation) and `MaxPooling2D` layers.\n",
        "\n",
        "However, since we are dealing with bigger images and a more complex problem, we will make our network accordingly larger: it will have one \n",
        "more `Conv2D` + `MaxPooling2D` stage. This serves both to augment the capacity of the network, and to further reduce the size of the \n",
        "feature maps, so that they aren't overly large when we reach the `Flatten` layer. Here, since we start from inputs of size 150x150 (a \n",
        "somewhat arbitrary choice), we end up with feature maps of size 7x7 right before the `Flatten` layer.\n",
        "\n",
        "Note that the depth of the feature maps is progressively increasing in the network (from 32 to 128), while the size of the feature maps is \n",
        "decreasing (from 148x148 to 7x7). This is a pattern that you will see in almost all convnets.\n",
        "\n",
        "Since we are attacking a binary classification problem, we are ending the network with a single unit (a `Dense` layer of size 1) and a \n",
        "`sigmoid` activation. This unit will encode the probability that the network is looking at one class or the other."
      ]
    },
    {
      "cell_type": "code",
      "metadata": {
        "id": "k1sIKTiOmbrV"
      },
      "source": [
        "from keras import layers\n",
        "from keras import models\n",
        "\n",
        "model = models.Sequential()\n",
        "model.add(layers.Conv2D(32, (3, 3), activation='relu',\n",
        "                        input_shape=(150, 150, 3)))\n",
        "model.add(layers.MaxPooling2D((2, 2)))\n",
        "model.add(layers.Conv2D(64, (3, 3), activation='relu'))\n",
        "model.add(layers.MaxPooling2D((2, 2)))\n",
        "model.add(layers.Conv2D(128, (3, 3), activation='relu'))\n",
        "model.add(layers.MaxPooling2D((2, 2)))\n",
        "model.add(layers.Conv2D(128, (3, 3), activation='relu'))\n",
        "model.add(layers.MaxPooling2D((2, 2)))\n",
        "model.add(layers.Flatten())\n",
        "model.add(layers.Dense(512, activation='relu'))\n",
        "model.add(layers.Dense(1, activation='sigmoid'))"
      ],
      "execution_count": null,
      "outputs": []
    },
    {
      "cell_type": "markdown",
      "metadata": {
        "id": "0JbkaNgzmhKR"
      },
      "source": [
        "Let's take a look at how the dimensions of the feature maps change with every successive layer:"
      ]
    },
    {
      "cell_type": "code",
      "metadata": {
        "colab": {
          "base_uri": "https://localhost:8080/"
        },
        "id": "z08tzHX7mh-n",
        "outputId": "5705e8cc-efae-4204-c0f0-d8117ee9dffb"
      },
      "source": [
        "model.summary()"
      ],
      "execution_count": null,
      "outputs": [
        {
          "name": "stdout",
          "output_type": "stream",
          "text": [
            "Model: \"sequential\"\n",
            "_________________________________________________________________\n",
            " Layer (type)                Output Shape              Param #   \n",
            "=================================================================\n",
            " conv2d (Conv2D)             (None, 148, 148, 32)      896       \n",
            "                                                                 \n",
            " max_pooling2d (MaxPooling2D  (None, 74, 74, 32)       0         \n",
            " )                                                               \n",
            "                                                                 \n",
            " conv2d_1 (Conv2D)           (None, 72, 72, 64)        18496     \n",
            "                                                                 \n",
            " max_pooling2d_1 (MaxPooling  (None, 36, 36, 64)       0         \n",
            " 2D)                                                             \n",
            "                                                                 \n",
            " conv2d_2 (Conv2D)           (None, 34, 34, 128)       73856     \n",
            "                                                                 \n",
            " max_pooling2d_2 (MaxPooling  (None, 17, 17, 128)      0         \n",
            " 2D)                                                             \n",
            "                                                                 \n",
            " conv2d_3 (Conv2D)           (None, 15, 15, 128)       147584    \n",
            "                                                                 \n",
            " max_pooling2d_3 (MaxPooling  (None, 7, 7, 128)        0         \n",
            " 2D)                                                             \n",
            "                                                                 \n",
            " flatten (Flatten)           (None, 6272)              0         \n",
            "                                                                 \n",
            " dense (Dense)               (None, 512)               3211776   \n",
            "                                                                 \n",
            " dense_1 (Dense)             (None, 1)                 513       \n",
            "                                                                 \n",
            "=================================================================\n",
            "Total params: 3,453,121\n",
            "Trainable params: 3,453,121\n",
            "Non-trainable params: 0\n",
            "_________________________________________________________________\n"
          ]
        }
      ]
    },
    {
      "cell_type": "markdown",
      "metadata": {
        "id": "z3JoyhEPnOi9"
      },
      "source": [
        "For our compilation step, we'll go with the `RMSprop` optimizer as usual. Since we ended our network with a single sigmoid unit, we will \n",
        "use binary crossentropy as our loss (as a reminder, check out the table in Chapter 4, section 5 for a cheatsheet on what loss function to \n",
        "use in various situations)."
      ]
    },
    {
      "cell_type": "code",
      "metadata": {
        "colab": {
          "base_uri": "https://localhost:8080/"
        },
        "id": "0gqbUuiSnN6q",
        "outputId": "7660ff21-898e-4d28-cd61-f5cb72099142"
      },
      "source": [
        "from tensorflow.keras import optimizers\n",
        "\n",
        "model.compile(loss='binary_crossentropy',\n",
        "              optimizer=optimizers.RMSprop(lr=1e-4),\n",
        "              metrics=['acc'])"
      ],
      "execution_count": null,
      "outputs": [
        {
          "output_type": "stream",
          "name": "stderr",
          "text": [
            "/usr/local/lib/python3.7/dist-packages/keras/optimizer_v2/rmsprop.py:130: UserWarning: The `lr` argument is deprecated, use `learning_rate` instead.\n",
            "  super(RMSprop, self).__init__(name, **kwargs)\n"
          ]
        }
      ]
    },
    {
      "cell_type": "markdown",
      "metadata": {
        "id": "qsGHpb1NnqHp"
      },
      "source": [
        "## Data preprocessing\n",
        "\n",
        "As you already know by now, data should be formatted into appropriately pre-processed floating point tensors before being fed into our \n",
        "network. Currently, our data sits on a drive as JPEG files, so the steps for getting it into our network are roughly:\n",
        "\n",
        "* Read the picture files.\n",
        "* Decode the JPEG content to RBG grids of pixels.\n",
        "* Convert these into floating point tensors.\n",
        "* Rescale the pixel values (between 0 and 255) to the [0, 1] interval (as you know, neural networks prefer to deal with small input values).\n",
        "\n",
        "It may seem a bit daunting, but thankfully Keras has utilities to take care of these steps automatically. Keras has a module with image \n",
        "processing helper tools, located at `keras.preprocessing.image`. In particular, it contains the class `ImageDataGenerator` which allows to \n",
        "quickly set up Python generators that can automatically turn image files on disk into batches of pre-processed tensors. This is what we \n",
        "will use here."
      ]
    },
    {
      "cell_type": "code",
      "metadata": {
        "colab": {
          "base_uri": "https://localhost:8080/"
        },
        "id": "a-XCrnrenrBr",
        "outputId": "17b7b1dd-9443-4391-fd90-a754dd5e663e"
      },
      "source": [
        "from keras.preprocessing.image import ImageDataGenerator\n",
        "\n",
        "# ImageDataGenerator: tạo ra các mẩu ảnh ngẫu nhiên để train model thay vì dùng random\n",
        "\n",
        "# All images will be rescaled by 1./255: rescaled giá trị của mỗi pixel từ 256 giá trị nguyên thành các số folat từ 0 -> 1  để máy học tốt hơn\n",
        "train_datagen = ImageDataGenerator(rescale=1./255)\n",
        "test_datagen = ImageDataGenerator(rescale=1./255)\n",
        "\n",
        "train_generator = train_datagen.flow_from_directory(\n",
        "        # This is the target directory\n",
        "        train_dir,\n",
        "        # All images will be resized to 150x150\n",
        "        target_size=(150, 150),\n",
        "        batch_size=20,\n",
        "        # Since we use binary_crossentropy loss, we need binary labels\n",
        "        class_mode='binary')\n",
        "\n",
        "validation_generator = test_datagen.flow_from_directory(\n",
        "        validation_dir,\n",
        "        target_size=(150, 150),\n",
        "        batch_size=20,\n",
        "        class_mode='binary')"
      ],
      "execution_count": null,
      "outputs": [
        {
          "output_type": "stream",
          "name": "stdout",
          "text": [
            "Found 2002 images belonging to 2 classes.\n",
            "Found 1002 images belonging to 2 classes.\n"
          ]
        }
      ]
    },
    {
      "cell_type": "markdown",
      "metadata": {
        "id": "hWXfDPehXAwC"
      },
      "source": [
        "Tập Validation là tập kiểm tra xem tập train có đang thực sự học tốt hay không trong quá trình học. Nếu không, nó sẽ dừng quá trình học lại và chuyển sang cách học mới."
      ]
    },
    {
      "cell_type": "markdown",
      "metadata": {
        "id": "iR9mdPgEXl0k"
      },
      "source": [
        "Let's take a look at the output of one of these generators: it yields batches of 150x150 RGB images (shape `(20, 150, 150, 3)`) and binary \n",
        "labels (shape `(20,)`). 20 is the number of samples in each batch (the batch size). Note that the generator yields these batches \n",
        "indefinitely: it just loops endlessly over the images present in the target folder. For this reason, we need to `break` the iteration loop \n",
        "at some point."
      ]
    },
    {
      "cell_type": "code",
      "metadata": {
        "colab": {
          "base_uri": "https://localhost:8080/"
        },
        "id": "nac9IyJhW5Ch",
        "outputId": "a2ff6fb7-73c4-45a6-8487-5588f82aa9d1"
      },
      "source": [
        "for data_batch, labels_batch in train_generator:\n",
        "    print('data batch shape:', data_batch.shape)\n",
        "    print('labels batch shape:', labels_batch.shape)\n",
        "    break"
      ],
      "execution_count": null,
      "outputs": [
        {
          "output_type": "stream",
          "name": "stdout",
          "text": [
            "data batch shape: (20, 150, 150, 3)\n",
            "labels batch shape: (20,)\n"
          ]
        }
      ]
    },
    {
      "cell_type": "markdown",
      "metadata": {
        "id": "1yHsnC-LZS8p"
      },
      "source": [
        "Let's fit our model to the data using the generator. We do it using the `fit_generator` method, the equivalent of `fit` for data generators \n",
        "like ours. It expects as first argument a Python generator that will yield batches of inputs and targets indefinitely, like ours does. \n",
        "Because the data is being generated endlessly, the generator needs to know example how many samples to draw from the generator before \n",
        "declaring an epoch over. This is the role of the `steps_per_epoch` argument: after having drawn `steps_per_epoch` batches from the \n",
        "generator, i.e. after having run for `steps_per_epoch` gradient descent steps, the fitting process will go to the next epoch. In our case, \n",
        "batches are 20-sample large, so it will take 100 batches until we see our target of 2000 samples.\n",
        "\n",
        "When using `fit_generator`, one may pass a `validation_data` argument, much like with the `fit` method. Importantly, this argument is \n",
        "allowed to be a data generator itself, but it could be a tuple of Numpy arrays as well. If you pass a generator as `validation_data`, then \n",
        "this generator is expected to yield batches of validation data endlessly, and thus you should also specify the `validation_steps` argument, \n",
        "which tells the process how many batches to draw from the validation generator for evaluation."
      ]
    },
    {
      "cell_type": "code",
      "metadata": {
        "colab": {
          "base_uri": "https://localhost:8080/"
        },
        "id": "ErCWuh9RZXPE",
        "outputId": "757176e0-0d4b-4673-b813-37f4e864d961"
      },
      "source": [
        "history = model.fit_generator(\n",
        "      train_generator,\n",
        "      steps_per_epoch=100,\n",
        "      epochs=50,\n",
        "      validation_data=validation_generator,\n",
        "      validation_steps=50)"
      ],
      "execution_count": null,
      "outputs": [
        {
          "output_type": "stream",
          "name": "stderr",
          "text": [
            "/usr/local/lib/python3.7/dist-packages/ipykernel_launcher.py:6: UserWarning: `Model.fit_generator` is deprecated and will be removed in a future version. Please use `Model.fit`, which supports generators.\n",
            "  \n"
          ]
        },
        {
          "output_type": "stream",
          "name": "stdout",
          "text": [
            "Epoch 1/50\n",
            "100/100 [==============================] - 535s 5s/step - loss: 0.6888 - acc: 0.5429 - val_loss: 0.7092 - val_acc: 0.5010\n",
            "Epoch 2/50\n",
            "100/100 [==============================] - 119s 1s/step - loss: 0.6466 - acc: 0.6130 - val_loss: 0.6379 - val_acc: 0.6410\n",
            "Epoch 3/50\n",
            "100/100 [==============================] - 119s 1s/step - loss: 0.5967 - acc: 0.6791 - val_loss: 0.6955 - val_acc: 0.5940\n",
            "Epoch 4/50\n",
            "100/100 [==============================] - 118s 1s/step - loss: 0.5662 - acc: 0.7084 - val_loss: 0.6163 - val_acc: 0.6600\n",
            "Epoch 5/50\n",
            "100/100 [==============================] - 119s 1s/step - loss: 0.5305 - acc: 0.7336 - val_loss: 0.5687 - val_acc: 0.7110\n",
            "Epoch 6/50\n",
            "100/100 [==============================] - 119s 1s/step - loss: 0.5062 - acc: 0.7477 - val_loss: 0.6076 - val_acc: 0.6770\n",
            "Epoch 7/50\n",
            "100/100 [==============================] - 119s 1s/step - loss: 0.4791 - acc: 0.7679 - val_loss: 0.6150 - val_acc: 0.6960\n",
            "Epoch 8/50\n",
            "100/100 [==============================] - 118s 1s/step - loss: 0.4397 - acc: 0.7886 - val_loss: 0.6222 - val_acc: 0.6780\n",
            "Epoch 9/50\n",
            "100/100 [==============================] - 119s 1s/step - loss: 0.4254 - acc: 0.7947 - val_loss: 0.5638 - val_acc: 0.7200\n",
            "Epoch 10/50\n",
            "100/100 [==============================] - 118s 1s/step - loss: 0.4026 - acc: 0.8103 - val_loss: 0.6465 - val_acc: 0.7010\n",
            "Epoch 11/50\n",
            "100/100 [==============================] - 118s 1s/step - loss: 0.3813 - acc: 0.8370 - val_loss: 0.6026 - val_acc: 0.7020\n",
            "Epoch 12/50\n",
            "100/100 [==============================] - 118s 1s/step - loss: 0.3614 - acc: 0.8391 - val_loss: 0.6033 - val_acc: 0.7170\n",
            "Epoch 13/50\n",
            "100/100 [==============================] - 118s 1s/step - loss: 0.3325 - acc: 0.8486 - val_loss: 0.5682 - val_acc: 0.7430\n",
            "Epoch 14/50\n",
            "100/100 [==============================] - 118s 1s/step - loss: 0.3100 - acc: 0.8592 - val_loss: 0.5644 - val_acc: 0.7470\n",
            "Epoch 15/50\n",
            "100/100 [==============================] - 118s 1s/step - loss: 0.2893 - acc: 0.8814 - val_loss: 0.5913 - val_acc: 0.7230\n",
            "Epoch 16/50\n",
            "100/100 [==============================] - 118s 1s/step - loss: 0.2736 - acc: 0.8875 - val_loss: 0.6030 - val_acc: 0.7240\n",
            "Epoch 17/50\n",
            "100/100 [==============================] - 117s 1s/step - loss: 0.2568 - acc: 0.8951 - val_loss: 0.6027 - val_acc: 0.7410\n",
            "Epoch 18/50\n",
            "100/100 [==============================] - 117s 1s/step - loss: 0.2302 - acc: 0.9122 - val_loss: 0.6498 - val_acc: 0.7210\n",
            "Epoch 19/50\n",
            "100/100 [==============================] - 118s 1s/step - loss: 0.2082 - acc: 0.9273 - val_loss: 0.6569 - val_acc: 0.7380\n",
            "Epoch 20/50\n",
            "100/100 [==============================] - 117s 1s/step - loss: 0.1913 - acc: 0.9233 - val_loss: 0.6470 - val_acc: 0.7420\n",
            "Epoch 21/50\n",
            "100/100 [==============================] - 117s 1s/step - loss: 0.1658 - acc: 0.9445 - val_loss: 0.7605 - val_acc: 0.7060\n",
            "Epoch 22/50\n",
            "100/100 [==============================] - 117s 1s/step - loss: 0.1531 - acc: 0.9450 - val_loss: 0.7686 - val_acc: 0.7190\n",
            "Epoch 23/50\n",
            "100/100 [==============================] - 118s 1s/step - loss: 0.1355 - acc: 0.9556 - val_loss: 0.8713 - val_acc: 0.7230\n",
            "Epoch 24/50\n",
            "100/100 [==============================] - 118s 1s/step - loss: 0.1217 - acc: 0.9581 - val_loss: 0.7819 - val_acc: 0.7220\n",
            "Epoch 25/50\n",
            "100/100 [==============================] - 120s 1s/step - loss: 0.1056 - acc: 0.9672 - val_loss: 0.7885 - val_acc: 0.7330\n",
            "Epoch 26/50\n",
            "100/100 [==============================] - 118s 1s/step - loss: 0.0894 - acc: 0.9733 - val_loss: 0.7723 - val_acc: 0.7450\n",
            "Epoch 27/50\n",
            "100/100 [==============================] - 118s 1s/step - loss: 0.0773 - acc: 0.9798 - val_loss: 0.8053 - val_acc: 0.7330\n",
            "Epoch 28/50\n",
            "100/100 [==============================] - 118s 1s/step - loss: 0.0652 - acc: 0.9839 - val_loss: 0.9849 - val_acc: 0.7330\n",
            "Epoch 29/50\n",
            "100/100 [==============================] - 119s 1s/step - loss: 0.0586 - acc: 0.9839 - val_loss: 0.9369 - val_acc: 0.7360\n",
            "Epoch 30/50\n",
            "100/100 [==============================] - 124s 1s/step - loss: 0.0464 - acc: 0.9894 - val_loss: 0.9564 - val_acc: 0.7280\n",
            "Epoch 31/50\n",
            "100/100 [==============================] - 118s 1s/step - loss: 0.0424 - acc: 0.9889 - val_loss: 0.9756 - val_acc: 0.7430\n",
            "Epoch 32/50\n",
            "100/100 [==============================] - 118s 1s/step - loss: 0.0368 - acc: 0.9909 - val_loss: 0.9954 - val_acc: 0.7480\n",
            "Epoch 33/50\n",
            "100/100 [==============================] - 118s 1s/step - loss: 0.0355 - acc: 0.9899 - val_loss: 1.0989 - val_acc: 0.7350\n",
            "Epoch 34/50\n",
            "100/100 [==============================] - 118s 1s/step - loss: 0.0307 - acc: 0.9934 - val_loss: 1.3030 - val_acc: 0.7130\n",
            "Epoch 35/50\n",
            "100/100 [==============================] - 118s 1s/step - loss: 0.0257 - acc: 0.9924 - val_loss: 1.1060 - val_acc: 0.7280\n",
            "Epoch 36/50\n",
            "100/100 [==============================] - 118s 1s/step - loss: 0.0195 - acc: 0.9960 - val_loss: 1.1497 - val_acc: 0.7280\n",
            "Epoch 37/50\n",
            "100/100 [==============================] - 118s 1s/step - loss: 0.0258 - acc: 0.9929 - val_loss: 1.2060 - val_acc: 0.7360\n",
            "Epoch 38/50\n",
            "100/100 [==============================] - 118s 1s/step - loss: 0.0112 - acc: 0.9985 - val_loss: 1.2928 - val_acc: 0.7330\n",
            "Epoch 39/50\n",
            "100/100 [==============================] - 119s 1s/step - loss: 0.0154 - acc: 0.9960 - val_loss: 1.2388 - val_acc: 0.7410\n",
            "Epoch 40/50\n",
            "100/100 [==============================] - 118s 1s/step - loss: 0.0136 - acc: 0.9960 - val_loss: 1.2625 - val_acc: 0.7270\n",
            "Epoch 41/50\n",
            "100/100 [==============================] - 118s 1s/step - loss: 0.0155 - acc: 0.9950 - val_loss: 1.3413 - val_acc: 0.7370\n",
            "Epoch 42/50\n",
            "100/100 [==============================] - 119s 1s/step - loss: 0.0137 - acc: 0.9965 - val_loss: 1.3433 - val_acc: 0.7410\n",
            "Epoch 43/50\n",
            "100/100 [==============================] - 118s 1s/step - loss: 0.0087 - acc: 0.9975 - val_loss: 1.4206 - val_acc: 0.7380\n",
            "Epoch 44/50\n",
            "100/100 [==============================] - 118s 1s/step - loss: 0.0103 - acc: 0.9970 - val_loss: 1.4447 - val_acc: 0.7360\n",
            "Epoch 45/50\n",
            "100/100 [==============================] - 118s 1s/step - loss: 0.0097 - acc: 0.9970 - val_loss: 1.4429 - val_acc: 0.7330\n",
            "Epoch 46/50\n",
            "100/100 [==============================] - 118s 1s/step - loss: 0.0145 - acc: 0.9950 - val_loss: 1.4892 - val_acc: 0.7310\n",
            "Epoch 47/50\n",
            "100/100 [==============================] - 118s 1s/step - loss: 0.0055 - acc: 0.9985 - val_loss: 1.5297 - val_acc: 0.7290\n",
            "Epoch 48/50\n",
            "100/100 [==============================] - 118s 1s/step - loss: 0.0073 - acc: 0.9980 - val_loss: 1.5367 - val_acc: 0.7360\n",
            "Epoch 49/50\n",
            "100/100 [==============================] - 118s 1s/step - loss: 0.0155 - acc: 0.9970 - val_loss: 1.5455 - val_acc: 0.7400\n",
            "Epoch 50/50\n",
            "100/100 [==============================] - 118s 1s/step - loss: 0.0170 - acc: 0.9960 - val_loss: 1.5789 - val_acc: 0.7280\n"
          ]
        }
      ]
    },
    {
      "cell_type": "markdown",
      "metadata": {
        "id": "EGkp_579EkQi"
      },
      "source": [
        "It is good practice to always save your models after training:"
      ]
    },
    {
      "cell_type": "code",
      "metadata": {
        "id": "eM4UT4giErJQ"
      },
      "source": [
        "model.save('cats_and_dogs_small_1.h5')"
      ],
      "execution_count": null,
      "outputs": []
    },
    {
      "cell_type": "markdown",
      "metadata": {
        "id": "IsEY34gAEudR"
      },
      "source": [
        "Let's plot the loss and accuracy of the model over the training and validation data during training:"
      ]
    },
    {
      "cell_type": "code",
      "metadata": {
        "id": "IMAw2wmZEuFf"
      },
      "source": [
        "import matplotlib.pyplot as plt\n",
        "\n",
        "acc = history.history['acc']\n",
        "val_acc = history.history['val_acc']\n",
        "loss = history.history['loss']\n",
        "val_loss = history.history['val_loss']\n",
        "\n",
        "epochs = range(len(acc))\n",
        "\n",
        "plt.plot(epochs, acc, 'bo', label='Training acc')\n",
        "plt.plot(epochs, val_acc, 'b', label='Validation acc')\n",
        "plt.title('Training and validation accuracy')\n",
        "plt.legend()\n",
        "\n",
        "plt.figure()\n",
        "\n",
        "plt.plot(epochs, loss, 'bo', label='Training loss')\n",
        "plt.plot(epochs, val_loss, 'b', label='Validation loss')\n",
        "plt.title('Training and validation loss')\n",
        "plt.legend()\n",
        "\n",
        "plt.show()"
      ],
      "execution_count": null,
      "outputs": []
    },
    {
      "cell_type": "code",
      "metadata": {
        "id": "vLshM5QuY3IK"
      },
      "source": [
        "Test_size = 5\n",
        "probability = model.predict(validation_generator, test_size)\n",
        "for index, probability in enumerate(probabilities):\n",
        "  print(\"index:\", index)\n",
        "  # print(\" probability\", probability[0])\n",
        "  # print(\"file_name:\", test_generator.filenames[index])\n",
        "  image_path = test_dir + \"/\" + test_generator.filenames[index]\n",
        "  img = mpimg.imread(image_path)\n",
        "  plt.imshow(img)\n",
        "  if probability > 0.5:\n",
        "    plt.title(\"%.2f\" % (probability[0]*100) + \"% dog\")\n",
        "  else:\n",
        "    plt.title(\"%.2f\" % ((1-probability[0])*100)+ \"% cat\" )\n",
        "  plt.show()"
      ],
      "execution_count": null,
      "outputs": []
    },
    {
      "cell_type": "markdown",
      "metadata": {
        "id": "VyqHOMHDE25K"
      },
      "source": [
        "These plots are characteristic of overfitting. Our training accuracy increases linearly over time, until it reaches nearly 100%, while our \n",
        "validation accuracy stalls at 70-72%. Our validation loss reaches its minimum after only five epochs then stalls, while the training loss \n",
        "keeps decreasing linearly until it reaches nearly 0.\n",
        "\n",
        "Because we only have relatively few training samples (2000), overfitting is going to be our number one concern. You already know about a \n",
        "number of techniques that can help mitigate overfitting, such as dropout and weight decay (L2 regularization). We are now going to \n",
        "introduce a new one, specific to computer vision, and used almost universally when processing images with deep learning models: *data \n",
        "augmentation*."
      ]
    },
    {
      "cell_type": "markdown",
      "metadata": {
        "id": "MFixaljeDhAO"
      },
      "source": [
        "## Using data augmentation\n",
        "\n",
        "Overfitting is caused by having too few samples to learn from, rendering us unable to train a model able to generalize to new data. \n",
        "Given infinite data, our model would be exposed to every possible aspect of the data distribution at hand: we would never overfit. Data \n",
        "augmentation takes the approach of generating more training data from existing training samples, by \"augmenting\" the samples via a number \n",
        "of random transformations that yield believable-looking images. The goal is that at training time, our model would never see the exact same \n",
        "picture twice. This helps the model get exposed to more aspects of the data and generalize better.\n",
        "\n",
        "In Keras, this can be done by configuring a number of random transformations to be performed on the images read by our `ImageDataGenerator` \n",
        "instance. Let's get started with an example:"
      ]
    },
    {
      "cell_type": "code",
      "metadata": {
        "id": "22NxXTG1Dgmu"
      },
      "source": [
        "datagen = ImageDataGenerator(\n",
        "      rotation_range=40,\n",
        "      width_shift_range=0.2,\n",
        "      height_shift_range=0.2,\n",
        "      shear_range=0.2,\n",
        "      zoom_range=0.2,\n",
        "      horizontal_flip=True,\n",
        "      fill_mode='nearest')"
      ],
      "execution_count": null,
      "outputs": []
    },
    {
      "cell_type": "markdown",
      "metadata": {
        "id": "w5Ht7guyDxxJ"
      },
      "source": [
        "These are just a few of the options available (for more, see the Keras documentation). Let's quickly go over what we just wrote:\n",
        "\n",
        "* `rotation_range` is a value in degrees (0-180), a range within which to randomly rotate pictures.\n",
        "* `width_shift` and `height_shift` are ranges (as a fraction of total width or height) within which to randomly translate pictures \n",
        "vertically or horizontally.\n",
        "* `shear_range` is for randomly applying shearing transformations.\n",
        "* `zoom_range` is for randomly zooming inside pictures.\n",
        "* `horizontal_flip` is for randomly flipping half of the images horizontally -- relevant when there are no assumptions of horizontal \n",
        "asymmetry (e.g. real-world pictures).\n",
        "* `fill_mode` is the strategy used for filling in newly created pixels, which can appear after a rotation or a width/height shift.\n",
        "\n",
        "Let's take a look at our augmented images:"
      ]
    },
    {
      "cell_type": "code",
      "metadata": {
        "id": "zxBKWBv0DuVy"
      },
      "source": [
        "# This is module with image preprocessing utilities\n",
        "from keras.preprocessing import image\n",
        "\n",
        "fnames = [os.path.join(train_cats_dir, fname) for fname in os.listdir(train_cats_dir)]\n",
        "\n",
        "# We pick one image to \"augment\"\n",
        "img_path = fnames[3]\n",
        "\n",
        "# Read the image and resize it\n",
        "img = image.load_img(img_path, target_size=(150, 150))\n",
        "\n",
        "# Convert it to a Numpy array with shape (150, 150, 3)\n",
        "x = image.img_to_array(img)\n",
        "\n",
        "# Reshape it to (1, 150, 150, 3)\n",
        "x = x.reshape((1,) + x.shape)\n",
        "\n",
        "# The .flow() command below generates batches of randomly transformed images.\n",
        "# It will loop indefinitely, so we need to `break` the loop at some point!\n",
        "i = 0\n",
        "for batch in datagen.flow(x, batch_size=1):\n",
        "    plt.figure(i)\n",
        "    imgplot = plt.imshow(image.array_to_img(batch[0]))\n",
        "    i += 1\n",
        "    if i % 4 == 0:\n",
        "        break\n",
        "\n",
        "plt.show()"
      ],
      "execution_count": null,
      "outputs": []
    },
    {
      "cell_type": "markdown",
      "metadata": {
        "id": "m0ySCGDeD5AG"
      },
      "source": [
        "If we train a new network using this data augmentation configuration, our network will never see twice the same input. However, the inputs \n",
        "that it sees are still heavily intercorrelated, since they come from a small number of original images -- we cannot produce new information, \n",
        "we can only remix existing information. As such, this might not be quite enough to completely get rid of overfitting. To further fight \n",
        "overfitting, we will also add a Dropout layer to our model, right before the densely-connected classifier:"
      ]
    },
    {
      "cell_type": "code",
      "metadata": {
        "id": "-2BALo5vDwDB"
      },
      "source": [
        "model = models.Sequential()\n",
        "model.add(layers.Conv2D(32, (3, 3), activation='relu',\n",
        "                        input_shape=(150, 150, 3)))\n",
        "model.add(layers.MaxPooling2D((2, 2)))\n",
        "model.add(layers.Conv2D(64, (3, 3), activation='relu'))\n",
        "model.add(layers.MaxPooling2D((2, 2)))\n",
        "model.add(layers.Conv2D(128, (3, 3), activation='relu'))\n",
        "model.add(layers.MaxPooling2D((2, 2)))\n",
        "model.add(layers.Conv2D(128, (3, 3), activation='relu'))\n",
        "model.add(layers.MaxPooling2D((2, 2)))\n",
        "model.add(layers.Flatten())\n",
        "model.add(layers.Dropout(0.5))\n",
        "model.add(layers.Dense(512, activation='relu'))\n",
        "model.add(layers.Dense(1, activation='sigmoid'))\n",
        "\n",
        "model.compile(loss='binary_crossentropy',\n",
        "              optimizer=optimizers.RMSprop(lr=1e-4),\n",
        "              metrics=['acc'])"
      ],
      "execution_count": null,
      "outputs": []
    },
    {
      "cell_type": "markdown",
      "metadata": {
        "id": "foM-Wxg7D_OI"
      },
      "source": [
        "Let's train our network using data augmentation and dropout:"
      ]
    },
    {
      "cell_type": "code",
      "metadata": {
        "id": "zfU6bdSnD-VG"
      },
      "source": [
        "train_datagen = ImageDataGenerator(\n",
        "    rescale=1./255,\n",
        "    rotation_range=40,\n",
        "    width_shift_range=0.2,\n",
        "    height_shift_range=0.2,\n",
        "    shear_range=0.2,\n",
        "    zoom_range=0.2,\n",
        "    horizontal_flip=True,)\n",
        "\n",
        "# Note that the validation data should not be augmented!\n",
        "test_datagen = ImageDataGenerator(rescale=1./255)\n",
        "\n",
        "train_generator = train_datagen.flow_from_directory(\n",
        "        # This is the target directory\n",
        "        train_dir,\n",
        "        # All images will be resized to 150x150\n",
        "        target_size=(150, 150),\n",
        "        batch_size=32,\n",
        "        # Since we use binary_crossentropy loss, we need binary labels\n",
        "        class_mode='binary')\n",
        "\n",
        "validation_generator = test_datagen.flow_from_directory(\n",
        "        validation_dir,\n",
        "        target_size=(150, 150),\n",
        "        batch_size=32,\n",
        "        class_mode='binary')\n",
        "\n",
        "history = model.fit_generator(\n",
        "      train_generator,\n",
        "      steps_per_epoch=100,\n",
        "      epochs=50,\n",
        "      validation_data=validation_generator,\n",
        "      validation_steps=50)"
      ],
      "execution_count": null,
      "outputs": []
    },
    {
      "cell_type": "markdown",
      "metadata": {
        "id": "Iogv-vVBEKvV"
      },
      "source": [
        "Let's save our model -- we will be using it in the section on convnet visualization."
      ]
    },
    {
      "cell_type": "code",
      "metadata": {
        "colab": {
          "base_uri": "https://localhost:8080/"
        },
        "id": "M2qXjCIMeVMC",
        "outputId": "9027ed6f-6b5c-49ca-b459-8a134cf0c64f"
      },
      "source": [
        "model_dir = \"//content//gdrive//Shared drives//AI(everythings)//Transfer Learning Model\"\n",
        "os.path.isdir(model_dir)"
      ],
      "execution_count": null,
      "outputs": [
        {
          "output_type": "execute_result",
          "data": {
            "text/plain": [
              "True"
            ]
          },
          "metadata": {},
          "execution_count": 13
        }
      ]
    },
    {
      "cell_type": "code",
      "metadata": {
        "id": "TB_r1Oc1ENFb"
      },
      "source": [
        "model.save(model_dir + '//Cat and Dog CNN1.h5')"
      ],
      "execution_count": null,
      "outputs": []
    },
    {
      "cell_type": "markdown",
      "metadata": {
        "id": "_SP6F3UaESpb"
      },
      "source": [
        "Let's plot our results again:"
      ]
    },
    {
      "cell_type": "code",
      "metadata": {
        "id": "UFm5mDGfEQwm"
      },
      "source": [
        "acc = history.history['acc']\n",
        "val_acc = history.history['val_acc']\n",
        "loss = history.history['loss']\n",
        "val_loss = history.history['val_loss']\n",
        "\n",
        "epochs = range(len(acc))\n",
        "\n",
        "plt.plot(epochs, acc, 'bo', label='Training acc')\n",
        "plt.plot(epochs, val_acc, 'b', label='Validation acc')\n",
        "plt.title('Training and validation accuracy')\n",
        "plt.legend()\n",
        "\n",
        "plt.figure()\n",
        "\n",
        "plt.plot(epochs, loss, 'bo', label='Training loss')\n",
        "plt.plot(epochs, val_loss, 'b', label='Validation loss')\n",
        "plt.title('Training and validation loss')\n",
        "plt.legend()\n",
        "\n",
        "plt.show()"
      ],
      "execution_count": null,
      "outputs": []
    },
    {
      "cell_type": "markdown",
      "metadata": {
        "id": "ecIMwGJqEXlA"
      },
      "source": [
        "Thanks to data augmentation and dropout, we are no longer overfitting: the training curves are rather closely tracking the validation \n",
        "curves. We are now able to reach an accuracy of 82%, a 15% relative improvement over the non-regularized model.\n",
        "\n",
        "By leveraging regularization techniques even further and by tuning the network's parameters (such as the number of filters per convolution \n",
        "layer, or the number of layers in the network), we may be able to get an even better accuracy, likely up to 86-87%. However, it would prove \n",
        "very difficult to go any higher just by training our own convnet from scratch, simply because we have so little data to work with. As a \n",
        "next step to improve our accuracy on this problem, we will have to leverage a pre-trained model, which will be the focus of the next two \n",
        "sections."
      ]
    }
  ]
}